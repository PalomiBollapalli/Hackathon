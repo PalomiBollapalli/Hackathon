{
  "nbformat": 4,
  "nbformat_minor": 0,
  "metadata": {
    "colab": {
      "provenance": [],
      "authorship_tag": "ABX9TyOlYA4cg3cE6TXi2Eqdlit8",
      "include_colab_link": true
    },
    "kernelspec": {
      "name": "python3",
      "display_name": "Python 3"
    },
    "language_info": {
      "name": "python"
    }
  },
  "cells": [
    {
      "cell_type": "markdown",
      "metadata": {
        "id": "view-in-github",
        "colab_type": "text"
      },
      "source": [
        "<a href=\"https://colab.research.google.com/github/PalomiBollapalli/Hackathon/blob/main/hackathon.ipynb\" target=\"_parent\"><img src=\"https://colab.research.google.com/assets/colab-badge.svg\" alt=\"Open In Colab\"/></a>"
      ]
    },
    {
      "cell_type": "code",
      "execution_count": 1,
      "metadata": {
        "colab": {
          "base_uri": "https://localhost:8080/"
        },
        "id": "SbJI0hyUN7BQ",
        "outputId": "8717d0a2-0970-4a93-eee4-6f788353b1b4"
      },
      "outputs": [
        {
          "output_type": "stream",
          "name": "stdout",
          "text": [
            "Running simple fuzzer...\n",
            "Fuzzing completed without crashes.\n",
            "\n",
            "Running mutation fuzzer...\n",
            "Fuzzing completed without crashes.\n"
          ]
        }
      ],
      "source": [
        "import random\n",
        "import subprocess\n",
        "import os\n",
        "\n",
        "def simple_fuzzer(target_program, iterations=10000, max_length=100):\n",
        "    \"\"\"A simple fuzzer that generates random byte strings.\"\"\"\n",
        "    for i in range(iterations):\n",
        "        length = random.randint(0, max_length)\n",
        "        input_data = bytes([random.randint(0, 255) for _ in range(length)])\n",
        "\n",
        "        try:\n",
        "            result = subprocess.run([target_program], input=input_data, capture_output=True, timeout=1)  # timeout for safety\n",
        "            if result.returncode < 0 : # negative return codes indicate signals (crashes)\n",
        "              print(f\"Crash detected! Input: {input_data}\")\n",
        "              with open(\"crash.bin\", \"wb\") as f:\n",
        "                f.write(input_data)\n",
        "              return\n",
        "            elif result.returncode != 0:\n",
        "              print(f\"Non-zero return code: {result.returncode}, Input: {input_data}\") # report non-crash errors\n",
        "        except subprocess.TimeoutExpired:\n",
        "            print(f\"Timeout! Input: {input_data}\")\n",
        "            with open(\"timeout.bin\", \"wb\") as f:\n",
        "              f.write(input_data)\n",
        "            return\n",
        "        except FileNotFoundError:\n",
        "          print(f\"Target program not found: {target_program}\")\n",
        "          return\n",
        "        except Exception as e:\n",
        "            print(f\"An error occurred: {e}\")\n",
        "            return\n",
        "    print(\"Fuzzing completed without crashes.\")\n",
        "\n",
        "def mutation_fuzzer(target_program, iterations=10000, initial_input=b\"initial_input\"):\n",
        "    \"\"\"A fuzzer that mutates an initial input.\"\"\"\n",
        "    input_data = bytearray(initial_input)\n",
        "\n",
        "    for i in range(iterations):\n",
        "        mutated_data = bytearray(input_data)  # Create a copy for mutation\n",
        "        num_mutations = random.randint(1, 5)\n",
        "\n",
        "        for _ in range(num_mutations):\n",
        "            mutation_type = random.randint(0, 2)\n",
        "            mutation_pos = random.randint(0, len(mutated_data) - 1) if mutated_data else 0 # handle empty input\n",
        "\n",
        "            if mutation_type == 0:  # Bit flip\n",
        "                mutated_data[mutation_pos] ^= 1 << random.randint(0, 7)\n",
        "            elif mutation_type == 1:  # Byte overwrite\n",
        "                mutated_data[mutation_pos] = random.randint(0, 255)\n",
        "            elif mutation_type == 2 and len(mutated_data) < 200: #byte insertion, with size limit.\n",
        "                mutated_data.insert(mutation_pos, random.randint(0, 255))\n",
        "        try:\n",
        "            result = subprocess.run([target_program], input=bytes(mutated_data), capture_output=True, timeout=1)\n",
        "            if result.returncode < 0:\n",
        "                print(f\"Crash detected! Input: {mutated_data}\")\n",
        "                with open(\"crash.bin\", \"wb\") as f:\n",
        "                    f.write(mutated_data)\n",
        "                return\n",
        "            elif result.returncode != 0:\n",
        "              print(f\"Non-zero return code: {result.returncode}, Input: {mutated_data}\")\n",
        "        except subprocess.TimeoutExpired:\n",
        "            print(f\"Timeout! Input: {mutated_data}\")\n",
        "            with open(\"timeout.bin\", \"wb\") as f:\n",
        "                f.write(mutated_data)\n",
        "            return\n",
        "        except FileNotFoundError:\n",
        "          print(f\"Target program not found: {target_program}\")\n",
        "          return\n",
        "        except Exception as e:\n",
        "            print(f\"An error occurred: {e}\")\n",
        "            return\n",
        "\n",
        "        input_data = mutated_data  # Update input for the next iteration\n",
        "    print(\"Fuzzing completed without crashes.\")\n",
        "\n",
        "if __name__ == \"__main__\":\n",
        "    target = \"./vulnerable_program\" # Replace with your target program.\n",
        "    if os.name == 'nt': # windows testing\n",
        "        target = \"vulnerable_program.exe\"\n",
        "\n",
        "    #Create a simple, vulnerable program for testing.\n",
        "    with open(\"vulnerable_program.c\", \"w\") as f:\n",
        "        f.write(\"\"\"\n",
        "        #include <stdio.h>\n",
        "        #include <string.h>\n",
        "        #include <stdlib.h>\n",
        "        int main(int argc, char *argv[]) {\n",
        "            char buffer[10];\n",
        "            if (argc > 1) {\n",
        "                strcpy(buffer, argv[1]);\n",
        "            }\n",
        "            return 0;\n",
        "        }\n",
        "        \"\"\")\n",
        "\n",
        "    subprocess.run([\"gcc\", \"vulnerable_program.c\", \"-o\", target])\n",
        "\n",
        "    print(\"Running simple fuzzer...\")\n",
        "    simple_fuzzer(target)\n",
        "\n",
        "    print(\"\\nRunning mutation fuzzer...\")\n",
        "    mutation_fuzzer(target)\n",
        "\n",
        "    os.remove(\"vulnerable_program.c\")\n",
        "    os.remove(target) #cleanup"
      ]
    },
    {
      "cell_type": "code",
      "source": [],
      "metadata": {
        "id": "m3hUtLuqPB4z"
      },
      "execution_count": null,
      "outputs": []
    }
  ]
}